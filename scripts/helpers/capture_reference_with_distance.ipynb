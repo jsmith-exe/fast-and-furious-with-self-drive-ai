{
 "cells": [
  {
   "cell_type": "markdown",
   "id": "678738e4",
   "metadata": {},
   "source": [
    "# Camera Object Detection & Distance Estimation\n",
    "This notebook displays the JetCam camera feed, detects the main object, draws a bounding box, and estimates the distance using a single reference point."
   ]
  },
  {
   "cell_type": "code",
   "execution_count": 1,
   "id": "b51f8d53",
   "metadata": {},
   "outputs": [
    {
     "name": "stdout",
     "output_type": "stream",
     "text": [
      "[sudo] password for jetson: "
     ]
    },
    {
     "name": "stdout",
     "output_type": "stream",
     "text": [
      "[Errno 20] Not a directory: 'fast-and-furious-with-self-drive-ai/scripts/helpers/capture_reference_with_distance.ipynb'\n",
      "/home/jetson\n"
     ]
    }
   ],
   "source": [
    "!echo $USER | sudo -S systemctl restart nvargus-daemon \n",
    "%cd fast-and-furious-with-self-drive-ai/scripts/helpers/capture_reference_with_distance.ipynb"
   ]
  },
  {
   "cell_type": "code",
   "execution_count": 2,
   "id": "2acf17b8",
   "metadata": {},
   "outputs": [],
   "source": [
    "import cv2\n",
    "import numpy as np\n",
    "from jetcam.csi_camera import CSICamera\n",
    "from IPython.display import display, clear_output\n",
    "import ipywidgets as widgets"
   ]
  },
  {
   "cell_type": "code",
   "execution_count": 3,
   "id": "c1d93c2a",
   "metadata": {},
   "outputs": [],
   "source": [
    "# Reference calibration (update as needed)\n",
    "REFERENCE_AREA = 43456  # pixels\n",
    "REFERENCE_DISTANCE = 0.20  # meters"
   ]
  },
  {
   "cell_type": "code",
   "execution_count": 4,
   "id": "f2c2725e",
   "metadata": {},
   "outputs": [],
   "source": [
    "# Initialize camera\n",
    "camera = CSICamera(width=224, height=224, capture_fps=30)\n",
    "camera.running = True"
   ]
  },
  {
   "cell_type": "code",
   "execution_count": 5,
   "id": "792d79ae",
   "metadata": {},
   "outputs": [],
   "source": [
    "# Helper: Show HSV value at mouse click\n",
    "import matplotlib.pyplot as plt\n",
    "\n",
    "def show_hsv(frame):\n",
    "    hsv = cv2.cvtColor(frame, cv2.COLOR_BGR2HSV)\n",
    "    plt.imshow(cv2.cvtColor(frame, cv2.COLOR_BGR2RGB))\n",
    "    plt.title(\"Click on the bottle to get HSV value\")\n",
    "    coords = plt.ginput(1)\n",
    "    if coords:\n",
    "        x, y = int(coords[0][0]), int(coords[0][1])\n",
    "        print(\"HSV at ({}, {}): {}\".format(x, y, hsv[y, x]))\n",
    "    plt.show()\n",
    "\n",
    "# Usage: Run this cell, then call show_hsv(camera.value.copy()) and click on the bottle in the image."
   ]
  },
  {
   "cell_type": "code",
   "execution_count": 6,
   "id": "fc67a836",
   "metadata": {},
   "outputs": [],
   "source": [
    "image_widget = widgets.Image(format='jpeg', width=224, height=224)\n",
    "box_widget = widgets.Image(format='jpeg', width=224, height=224)"
   ]
  },
  {
   "cell_type": "code",
   "execution_count": 7,
   "id": "f2f0cdbc",
   "metadata": {},
   "outputs": [],
   "source": [
    "import collections\n",
    "bbox_history = collections.deque(maxlen=5)  # For smoothing bounding box\n",
    "def process_frame(frame):\n",
    "    # Convert to HSV for color segmentation\n",
    "    hsv = cv2.cvtColor(frame, cv2.COLOR_BGR2HSV)\n",
    "    # Blur to reduce noise\n",
    "    hsv = cv2.GaussianBlur(hsv, (7,7), 0)\n",
    "    # Define red/maroon color range (tune as needed)\n",
    "    lower_red1 = np.array([0, 70, 50])\n",
    "    upper_red1 = np.array([10, 255, 255])\n",
    "    lower_red2 = np.array([160, 70, 50])\n",
    "    upper_red2 = np.array([180, 255, 255])\n",
    "    # Combine masks for red hue range\n",
    "    mask1 = cv2.inRange(hsv, lower_red1, upper_red1)\n",
    "    mask2 = cv2.inRange(hsv, lower_red2, upper_red2)\n",
    "    mask = cv2.bitwise_or(mask1, mask2)\n",
    "    # Morphological operations to clean up mask\n",
    "    mask = cv2.morphologyEx(mask, cv2.MORPH_OPEN, np.ones((7,7), np.uint8))\n",
    "    mask = cv2.morphologyEx(mask, cv2.MORPH_CLOSE, np.ones((7,7), np.uint8))\n",
    "    contours, _ = cv2.findContours(mask, cv2.RETR_EXTERNAL, cv2.CHAIN_APPROX_SIMPLE)\n",
    "    annotated = frame.copy()\n",
    "    distance = None\n",
    "    min_area = 500  # Ignore small contours\n",
    "    if contours:\n",
    "        largest = max(contours, key=cv2.contourArea)\n",
    "        if cv2.contourArea(largest) > min_area:\n",
    "            x, y, w, h = cv2.boundingRect(largest)\n",
    "            bbox_history.append((x, y, w, h))\n",
    "            # Smooth bounding box\n",
    "            if len(bbox_history) > 1:\n",
    "                x = int(np.mean([b[0] for b in bbox_history]))\n",
    "                y = int(np.mean([b[1] for b in bbox_history]))\n",
    "                w = int(np.mean([b[2] for b in bbox_history]))\n",
    "                h = int(np.mean([b[3] for b in bbox_history]))\n",
    "            area = w * h\n",
    "            if area > 0:\n",
    "                distance = REFERENCE_DISTANCE * np.sqrt(REFERENCE_AREA / area)\n",
    "                cv2.rectangle(annotated, (x, y), (x+w, y+h), (0,255,0), 2)\n",
    "                cv2.putText(annotated, f'Dist: {distance:.2f}m', (x, y-10), cv2.FONT_HERSHEY_SIMPLEX, 0.6, (0,255,0), 2)\n",
    "    return annotated"
   ]
  },
  {
   "cell_type": "code",
   "execution_count": 8,
   "id": "50b2ad0a",
   "metadata": {},
   "outputs": [],
   "source": [
    "import threading\n",
    "import time\n",
    "def update():\n",
    "    while camera.running:\n",
    "        frame = camera.value.copy() if hasattr(camera, 'value') else camera.read()\n",
    "        annotated = process_frame(frame)\n",
    "        _, jpeg = cv2.imencode('.jpg', annotated)\n",
    "        box_widget.value = jpeg.tobytes()\n",
    "        time.sleep(0.1)  # ~10 FPS"
   ]
  },
  {
   "cell_type": "code",
   "execution_count": 9,
   "id": "c7711fc0",
   "metadata": {},
   "outputs": [
    {
     "data": {
      "application/vnd.jupyter.widget-view+json": {
       "model_id": "b117305d3072430c89710de4c5eb0cf8",
       "version_major": 2,
       "version_minor": 0
      },
      "text/plain": [
       "Image(value=b'', format='jpeg', height='224', width='224')"
      ]
     },
     "metadata": {},
     "output_type": "display_data"
    }
   ],
   "source": [
    "thread = threading.Thread(target=update)\n",
    "thread.daemon = True\n",
    "thread.start()\n",
    "display(box_widget)"
   ]
  }
 ],
 "metadata": {
  "kernelspec": {
   "display_name": "Python 3",
   "language": "python",
   "name": "python3"
  },
  "language_info": {
   "codemirror_mode": {
    "name": "ipython",
    "version": 3
   },
   "file_extension": ".py",
   "mimetype": "text/x-python",
   "name": "python",
   "nbconvert_exporter": "python",
   "pygments_lexer": "ipython3",
   "version": "3.6.9"
  }
 },
 "nbformat": 4,
 "nbformat_minor": 5
}
