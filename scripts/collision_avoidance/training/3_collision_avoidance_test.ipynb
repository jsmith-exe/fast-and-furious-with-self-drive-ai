{
 "cells": [
  {
   "cell_type": "code",
   "execution_count": 1,
   "id": "d1fd761b",
   "metadata": {},
   "outputs": [
    {
     "name": "stdout",
     "output_type": "stream",
     "text": [
      "[sudo] password for jetson: "
     ]
    }
   ],
   "source": [
    "!echo $USER | sudo -S systemctl restart nvargus-daemon"
   ]
  },
  {
   "cell_type": "code",
   "execution_count": 2,
   "id": "37d213fa",
   "metadata": {},
   "outputs": [
    {
     "name": "stdout",
     "output_type": "stream",
     "text": [
      "/home/jetson/csc-3002-efficient-autonomous-obstacles-avoidance-on-jetracer-1-2025/notebooks/train_collision_avoidance\n"
     ]
    }
   ],
   "source": [
    "%cd csc-3002-efficient-autonomous-obstacles-avoidance-on-jetracer-1-2025/notebooks/train_collision_avoidance/"
   ]
  },
  {
   "cell_type": "markdown",
   "id": "fedb6962",
   "metadata": {},
   "source": [
    "### Test Collision Avoidance model\n",
    "This notebook is used to test whether Collision Avoidance model can work."
   ]
  },
  {
   "cell_type": "code",
   "execution_count": 3,
   "id": "bddc6f76",
   "metadata": {},
   "outputs": [],
   "source": [
    "import cv2\n",
    "import torch\n",
    "from torch2trt import TRTModule\n",
    "from torchvision.datasets import ImageFolder\n",
    "from torch.utils.data import DataLoader\n",
    "import torchvision.transforms as transforms\n",
    "import PIL.Image\n",
    "import numpy as np\n",
    "device = torch.device('cuda')"
   ]
  },
  {
   "cell_type": "code",
   "execution_count": 4,
   "id": "cf2f2b4b",
   "metadata": {},
   "outputs": [
    {
     "data": {
      "text/plain": [
       "TRTModule()"
      ]
     },
     "execution_count": 4,
     "metadata": {},
     "output_type": "execute_result"
    }
   ],
   "source": [
    "# Load optimized TensorRT model for collision avoidance\n",
    "model_trt_collision = TRTModule()\n",
    "model_trt_collision.load_state_dict(torch.load('best_model_resnet18_3class_trt.pth'))\n",
    "model_trt_collision = model_trt_collision.to(device)\n",
    "model_trt_collision.eval()"
   ]
  },
  {
   "cell_type": "code",
   "execution_count": 5,
   "id": "82ff2139",
   "metadata": {},
   "outputs": [],
   "source": [
    "# Define ImageNet mean and std for normalization\n",
    "mean = torch.Tensor([0.485, 0.456, 0.406]).cuda().half()\n",
    "std = torch.Tensor([0.229, 0.224, 0.225]).cuda().half()"
   ]
  },
  {
   "cell_type": "code",
   "execution_count": 6,
   "id": "e38fabd9",
   "metadata": {},
   "outputs": [],
   "source": [
    "# Preprocess single input tensor (float16 + normalize)\n",
    "def preprocess_tensor(image_tensor):\n",
    "    image_tensor = image_tensor.to(device).half()\n",
    "    image_tensor.sub_(mean[:, None, None]).div_(std[:, None, None])\n",
    "    return image_tensor.unsqueeze(0)"
   ]
  },
  {
   "cell_type": "code",
   "execution_count": 7,
   "id": "8428137f",
   "metadata": {},
   "outputs": [],
   "source": [
    "# Standard transform for test dataset loading\n",
    "transform = transforms.Compose([\n",
    "    transforms.Resize((224, 224)),\n",
    "    transforms.ToTensor(), \n",
    "])"
   ]
  },
  {
   "cell_type": "code",
   "execution_count": 8,
   "id": "02a9db2a",
   "metadata": {},
   "outputs": [],
   "source": [
    "# Load test images dataset using ImageFolder structure\n",
    "test_dataset = ImageFolder('js_data/', transform=transform)\n",
    "test_loader = DataLoader(test_dataset, batch_size=1, shuffle=False)\n",
    "class_names = test_dataset.classes # Get list of class names from folder names"
   ]
  },
  {
   "cell_type": "code",
   "execution_count": 9,
   "id": "be6ca8be",
   "metadata": {},
   "outputs": [
    {
     "name": "stdout",
     "output_type": "stream",
     "text": [
      "Running Collision Avoidance Model Evaluation:\n",
      "\n",
      "Predicted: 0_forward | Ground Truth: 0_forward\n",
      "Predicted: 0_forward | Ground Truth: 0_forward\n",
      "Predicted: 0_forward | Ground Truth: 0_forward\n",
      "Predicted: 0_forward | Ground Truth: 0_forward\n",
      "Predicted: 0_forward | Ground Truth: 0_forward\n",
      "Predicted: 0_forward | Ground Truth: 0_forward\n",
      "Predicted: 0_forward | Ground Truth: 0_forward\n",
      "Predicted: 0_forward | Ground Truth: 0_forward\n",
      "Predicted: 0_forward | Ground Truth: 0_forward\n",
      "Predicted: 0_forward | Ground Truth: 0_forward\n",
      "Predicted: 0_forward | Ground Truth: 0_forward\n",
      "Predicted: 0_forward | Ground Truth: 0_forward\n",
      "Predicted: 0_forward | Ground Truth: 0_forward\n",
      "Predicted: 0_forward | Ground Truth: 0_forward\n",
      "Predicted: 0_forward | Ground Truth: 0_forward\n",
      "Predicted: 0_forward | Ground Truth: 0_forward\n",
      "Predicted: 0_forward | Ground Truth: 0_forward\n",
      "Predicted: 0_forward | Ground Truth: 0_forward\n",
      "Predicted: 0_forward | Ground Truth: 0_forward\n",
      "Predicted: 0_forward | Ground Truth: 0_forward\n",
      "Predicted: 0_forward | Ground Truth: 0_forward\n",
      "Predicted: 0_forward | Ground Truth: 0_forward\n",
      "Predicted: 0_forward | Ground Truth: 0_forward\n",
      "Predicted: 0_forward | Ground Truth: 0_forward\n",
      "Predicted: 0_forward | Ground Truth: 0_forward\n",
      "Predicted: 0_forward | Ground Truth: 0_forward\n",
      "Predicted: 0_forward | Ground Truth: 0_forward\n",
      "Predicted: 0_forward | Ground Truth: 0_forward\n",
      "Predicted: 0_forward | Ground Truth: 0_forward\n",
      "Predicted: 0_forward | Ground Truth: 0_forward\n",
      "Predicted: 0_forward | Ground Truth: 0_forward\n",
      "Predicted: 0_forward | Ground Truth: 0_forward\n",
      "Predicted: 0_forward | Ground Truth: 0_forward\n",
      "Predicted: 0_forward | Ground Truth: 0_forward\n",
      "Predicted: 0_forward | Ground Truth: 0_forward\n",
      "Predicted: 0_forward | Ground Truth: 0_forward\n",
      "Predicted: 0_forward | Ground Truth: 0_forward\n",
      "Predicted: 0_forward | Ground Truth: 0_forward\n",
      "Predicted: 0_forward | Ground Truth: 0_forward\n",
      "Predicted: 0_forward | Ground Truth: 0_forward\n",
      "Predicted: 0_forward | Ground Truth: 0_forward\n",
      "Predicted: 0_forward | Ground Truth: 0_forward\n",
      "Predicted: 0_forward | Ground Truth: 0_forward\n",
      "Predicted: 0_forward | Ground Truth: 0_forward\n",
      "Predicted: 0_forward | Ground Truth: 0_forward\n",
      "Predicted: 0_forward | Ground Truth: 0_forward\n",
      "Predicted: 0_forward | Ground Truth: 0_forward\n",
      "Predicted: 0_forward | Ground Truth: 0_forward\n",
      "Predicted: 0_forward | Ground Truth: 0_forward\n",
      "Predicted: 0_forward | Ground Truth: 0_forward\n",
      "Predicted: 0_forward | Ground Truth: 0_forward\n",
      "Predicted: 0_forward | Ground Truth: 0_forward\n",
      "Predicted: 0_forward | Ground Truth: 0_forward\n",
      "Predicted: 0_forward | Ground Truth: 0_forward\n",
      "Predicted: 0_forward | Ground Truth: 0_forward\n",
      "Predicted: 0_forward | Ground Truth: 0_forward\n",
      "Predicted: 0_forward | Ground Truth: 0_forward\n",
      "Predicted: 0_forward | Ground Truth: 0_forward\n",
      "Predicted: 0_forward | Ground Truth: 0_forward\n",
      "Predicted: 0_forward | Ground Truth: 0_forward\n",
      "Predicted: 0_forward | Ground Truth: 0_forward\n",
      "Predicted: 0_forward | Ground Truth: 0_forward\n",
      "Predicted: 0_forward | Ground Truth: 0_forward\n",
      "Predicted: 0_forward | Ground Truth: 0_forward\n",
      "Predicted: 0_forward | Ground Truth: 0_forward\n",
      "Predicted: 0_forward | Ground Truth: 0_forward\n",
      "Predicted: 0_forward | Ground Truth: 0_forward\n",
      "Predicted: 0_forward | Ground Truth: 0_forward\n",
      "Predicted: 0_forward | Ground Truth: 0_forward\n",
      "Predicted: 0_forward | Ground Truth: 0_forward\n",
      "Predicted: 0_forward | Ground Truth: 0_forward\n",
      "Predicted: 0_forward | Ground Truth: 0_forward\n",
      "Predicted: 0_forward | Ground Truth: 0_forward\n",
      "Predicted: 0_forward | Ground Truth: 0_forward\n",
      "Predicted: 0_forward | Ground Truth: 0_forward\n",
      "Predicted: 0_forward | Ground Truth: 0_forward\n",
      "Predicted: 0_forward | Ground Truth: 0_forward\n",
      "Predicted: 0_forward | Ground Truth: 0_forward\n",
      "Predicted: 0_forward | Ground Truth: 0_forward\n",
      "Predicted: 0_forward | Ground Truth: 0_forward\n",
      "Predicted: 0_forward | Ground Truth: 0_forward\n",
      "Predicted: 0_forward | Ground Truth: 0_forward\n",
      "Predicted: 0_forward | Ground Truth: 0_forward\n",
      "Predicted: 1_left   | Ground Truth: 1_left\n",
      "Predicted: 1_left   | Ground Truth: 1_left\n",
      "Predicted: 1_left   | Ground Truth: 1_left\n",
      "Predicted: 1_left   | Ground Truth: 1_left\n",
      "Predicted: 1_left   | Ground Truth: 1_left\n",
      "Predicted: 1_left   | Ground Truth: 1_left\n",
      "Predicted: 1_left   | Ground Truth: 1_left\n",
      "Predicted: 1_left   | Ground Truth: 1_left\n",
      "Predicted: 1_left   | Ground Truth: 1_left\n",
      "Predicted: 1_left   | Ground Truth: 1_left\n",
      "Predicted: 1_left   | Ground Truth: 1_left\n",
      "Predicted: 1_left   | Ground Truth: 1_left\n",
      "Predicted: 1_left   | Ground Truth: 1_left\n",
      "Predicted: 1_left   | Ground Truth: 1_left\n",
      "Predicted: 1_left   | Ground Truth: 1_left\n",
      "Predicted: 1_left   | Ground Truth: 1_left\n",
      "Predicted: 1_left   | Ground Truth: 1_left\n",
      "Predicted: 2_right  | Ground Truth: 2_right\n",
      "Predicted: 2_right  | Ground Truth: 2_right\n",
      "Predicted: 2_right  | Ground Truth: 2_right\n",
      "Predicted: 2_right  | Ground Truth: 2_right\n",
      "Predicted: 2_right  | Ground Truth: 2_right\n",
      "Predicted: 2_right  | Ground Truth: 2_right\n",
      "Predicted: 2_right  | Ground Truth: 2_right\n",
      "Predicted: 2_right  | Ground Truth: 2_right\n",
      "Predicted: 2_right  | Ground Truth: 2_right\n",
      "Predicted: 2_right  | Ground Truth: 2_right\n",
      "Predicted: 2_right  | Ground Truth: 2_right\n",
      "Predicted: 2_right  | Ground Truth: 2_right\n",
      "Predicted: 2_right  | Ground Truth: 2_right\n",
      "Predicted: 2_right  | Ground Truth: 2_right\n",
      "Predicted: 2_right  | Ground Truth: 2_right\n",
      "\n",
      " Accuracy: 115/115 = 100.00%\n"
     ]
    }
   ],
   "source": [
    "# Initialize counters\n",
    "correct = 0\n",
    "total = len(test_dataset)\n",
    "\n",
    "print(\"Running Collision Avoidance Model Evaluation:\\n\")\n",
    "\n",
    "# Iterate through test images\n",
    "for inputs, labels in test_loader:\n",
    "    inputs = preprocess_tensor(inputs[0]) # preprocess single image\n",
    "    labels = labels.to(device)\n",
    "\n",
    "    # Run inference\n",
    "    with torch.no_grad():\n",
    "        outputs = model_trt_collision(inputs)\n",
    "        _, predicted = torch.max(outputs, 1) # get class index with max probability\n",
    "\n",
    "    pred_class = class_names[predicted.item()]\n",
    "    true_class = class_names[labels.item()]\n",
    "    print(f\"Predicted: {pred_class.ljust(8)} | Ground Truth: {true_class}\")\n",
    "    \n",
    "    # Count correct predictions\n",
    "    if predicted == labels:\n",
    "        correct += 1\n",
    "\n",
    "# Calculate and print accuracy\n",
    "accuracy = correct / total * 100\n",
    "print(f\"\\n Accuracy: {correct}/{total} = {accuracy:.2f}%\")"
   ]
  },
  {
   "cell_type": "code",
   "execution_count": null,
   "id": "033884b0",
   "metadata": {},
   "outputs": [],
   "source": []
  }
 ],
 "metadata": {
  "kernelspec": {
   "display_name": "Python 3",
   "language": "python",
   "name": "python3"
  },
  "language_info": {
   "codemirror_mode": {
    "name": "ipython",
    "version": 3
   },
   "file_extension": ".py",
   "mimetype": "text/x-python",
   "name": "python",
   "nbconvert_exporter": "python",
   "pygments_lexer": "ipython3",
   "version": "3.6.9"
  }
 },
 "nbformat": 4,
 "nbformat_minor": 5
}
