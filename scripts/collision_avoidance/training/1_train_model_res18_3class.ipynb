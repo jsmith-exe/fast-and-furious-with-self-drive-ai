{
 "cells": [
  {
   "cell_type": "code",
   "execution_count": 1,
   "metadata": {},
   "outputs": [
    {
     "name": "stdout",
     "output_type": "stream",
     "text": [
      "[sudo] password for jetson: "
     ]
    }
   ],
   "source": [
    "!echo $USER | sudo -S systemctl restart nvargus-daemon"
   ]
  },
  {
   "cell_type": "code",
   "execution_count": 2,
   "metadata": {},
   "outputs": [
    {
     "name": "stdout",
     "output_type": "stream",
     "text": [
      "/home/jetson/fast-and-furious-with-self-drive-ai/scripts/collision_avoidance/training\n"
     ]
    }
   ],
   "source": [
    "%cd fast-and-furious-with-self-drive-ai/scripts/collision_avoidance/training"
   ]
  },
  {
   "cell_type": "markdown",
   "metadata": {},
   "source": [
    "# Train the model\n",
    "- This notebook is use to train the model by using the data we collect from `0_data_collection_3class.ipynb`\n",
    "- We'll train our image classifier to detect three classes `forward`, `turn left` and `turn right`"
   ]
  },
  {
   "cell_type": "code",
   "execution_count": 3,
   "metadata": {},
   "outputs": [],
   "source": [
    "import cv2\n",
    "import torch\n",
    "import torch.nn as nn\n",
    "import torch.optim as optim\n",
    "from torchvision import datasets, transforms, models\n",
    "from torch.utils.data import DataLoader"
   ]
  },
  {
   "cell_type": "code",
   "execution_count": 4,
   "metadata": {},
   "outputs": [],
   "source": [
    "train_transform = transforms.Compose([\n",
    "    transforms.Resize((224, 224)), \n",
    "    transforms.ToTensor(),\n",
    "    transforms.Normalize([0.485, 0.456, 0.406],\n",
    "                         [0.229, 0.224, 0.225])\n",
    "])"
   ]
  },
  {
   "cell_type": "code",
   "execution_count": 5,
   "metadata": {},
   "outputs": [],
   "source": [
    "data_dir = 'combined_data'  # Directory containing the training data\n",
    "train_dataset = datasets.ImageFolder(data_dir, transform=train_transform)\n",
    "train_loader = DataLoader(train_dataset, batch_size=32, shuffle=True, num_workers=2)"
   ]
  },
  {
   "cell_type": "markdown",
   "metadata": {},
   "source": [
    "### Define the neural network"
   ]
  },
  {
   "cell_type": "code",
   "execution_count": 6,
   "metadata": {},
   "outputs": [],
   "source": [
    "device = torch.device(\"cuda\" if torch.cuda.is_available() else \"cpu\")\n",
    "model = models.resnet18(pretrained=True)\n",
    "num_features = model.fc.in_features\n",
    "model.fc = nn.Linear(num_features, 3)  # Three outputs：forward/left/right\n",
    "model = model.to(device)"
   ]
  },
  {
   "cell_type": "code",
   "execution_count": 7,
   "metadata": {},
   "outputs": [],
   "source": [
    "criterion = nn.CrossEntropyLoss()   # Three categories => CrossEntropyLoss\n",
    "optimizer = optim.Adam(model.parameters(), lr=1e-4)"
   ]
  },
  {
   "cell_type": "markdown",
   "metadata": {},
   "source": [
    "### Train the neural network\n",
    "Using the code below we will train the neural network for 10 epochs, saving the best performing model after each epoch. Once that is finished, you should see a file `resnet18_3class.pth` in the Jupyter Lab file browser."
   ]
  },
  {
   "cell_type": "code",
   "execution_count": 8,
   "metadata": {},
   "outputs": [
    {
     "name": "stdout",
     "output_type": "stream",
     "text": [
      "Epoch [1/30], Loss: 0.3155\n",
      "Epoch [2/30], Loss: 0.0202\n",
      "Epoch [3/30], Loss: 0.0057\n",
      "Epoch [4/30], Loss: 0.0044\n",
      "Epoch [5/30], Loss: 0.0056\n",
      "Epoch [6/30], Loss: 0.0052\n",
      "Epoch [7/30], Loss: 0.0029\n",
      "Epoch [8/30], Loss: 0.0033\n",
      "Epoch [9/30], Loss: 0.0030\n",
      "Epoch [10/30], Loss: 0.0030\n",
      "Epoch [11/30], Loss: 0.0070\n",
      "Epoch [12/30], Loss: 0.0027\n",
      "Epoch [13/30], Loss: 0.0113\n",
      "Epoch [14/30], Loss: 0.0070\n",
      "Epoch [15/30], Loss: 0.0067\n",
      "Epoch [16/30], Loss: 0.0022\n",
      "Epoch [17/30], Loss: 0.0011\n",
      "Epoch [18/30], Loss: 0.0028\n",
      "Epoch [19/30], Loss: 0.0032\n",
      "Epoch [20/30], Loss: 0.0011\n",
      "Epoch [21/30], Loss: 0.0009\n",
      "Epoch [22/30], Loss: 0.0010\n",
      "Epoch [23/30], Loss: 0.0099\n",
      "Epoch [24/30], Loss: 0.0082\n",
      "Epoch [25/30], Loss: 0.0135\n",
      "Epoch [26/30], Loss: 0.0314\n",
      "Epoch [27/30], Loss: 0.0129\n",
      "Epoch [28/30], Loss: 0.0651\n",
      "Epoch [29/30], Loss: 0.0099\n",
      "Epoch [30/30], Loss: 0.0046\n"
     ]
    }
   ],
   "source": [
    "num_epochs = 30\n",
    "for epoch in range(num_epochs):\n",
    "    model.train()\n",
    "    running_loss = 0.0\n",
    "    \n",
    "    for images, labels in train_loader:\n",
    "        images = images.to(device)\n",
    "        labels = labels.to(device)\n",
    "        \n",
    "        optimizer.zero_grad()\n",
    "        outputs = model(images)  # [batch_size, 3]\n",
    "        loss = criterion(outputs, labels)  \n",
    "        loss.backward()\n",
    "        optimizer.step()\n",
    "        \n",
    "        running_loss += loss.item() * images.size(0)\n",
    "    \n",
    "    epoch_loss = running_loss / len(train_dataset)\n",
    "    print(f\"Epoch [{epoch+1}/{num_epochs}], Loss: {epoch_loss:.4f}\")"
   ]
  },
  {
   "cell_type": "markdown",
   "metadata": {},
   "source": [
    "### Save the model"
   ]
  },
  {
   "cell_type": "code",
   "execution_count": 9,
   "metadata": {},
   "outputs": [
    {
     "name": "stdout",
     "output_type": "stream",
     "text": [
      "Training completed and model saved.\n"
     ]
    }
   ],
   "source": [
    "torch.save(model.state_dict(), 'combined_data_model.pth')\n",
    "print(\"Training completed and model saved.\")"
   ]
  },
  {
   "cell_type": "code",
   "execution_count": null,
   "metadata": {},
   "outputs": [],
   "source": []
  }
 ],
 "metadata": {
  "kernelspec": {
   "display_name": "Python 3",
   "language": "python",
   "name": "python3"
  },
  "language_info": {
   "codemirror_mode": {
    "name": "ipython",
    "version": 3
   },
   "file_extension": ".py",
   "mimetype": "text/x-python",
   "name": "python",
   "nbconvert_exporter": "python",
   "pygments_lexer": "ipython3",
   "version": "3.6.9"
  }
 },
 "nbformat": 4,
 "nbformat_minor": 4
}
