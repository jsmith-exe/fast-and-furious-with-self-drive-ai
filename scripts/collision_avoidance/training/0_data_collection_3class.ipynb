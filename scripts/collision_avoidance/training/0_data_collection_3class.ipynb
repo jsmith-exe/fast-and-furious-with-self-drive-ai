{
 "cells": [
  {
   "cell_type": "code",
   "execution_count": 1,
   "metadata": {},
   "outputs": [
    {
     "name": "stdout",
     "output_type": "stream",
     "text": [
      "[sudo] password for jetson: "
     ]
    }
   ],
   "source": [
    "!echo $USER | sudo -S systemctl restart nvargus-daemon "
   ]
  },
  {
   "cell_type": "code",
   "execution_count": 2,
   "metadata": {},
   "outputs": [
    {
     "name": "stdout",
     "output_type": "stream",
     "text": [
      "/home/jetson/csc-3002-efficient-autonomous-obstacles-avoidance-on-jetracer-1-2025/notebooks/train_collision_avoidance\n"
     ]
    }
   ],
   "source": [
    "%cd csc-3002-efficient-autonomous-obstacles-avoidance-on-jetracer-1-2025/notebooks/train_collision_avoidance"
   ]
  },
  {
   "cell_type": "markdown",
   "metadata": {},
   "source": [
    "# Data Collection\n",
    "- This file is used to collect data for training the model.\n",
    "- The data labels are divided into three categories —— `forward`, `turn left` and `turn right`.\n",
    "- We will store the data in three different folders"
   ]
  },
  {
   "cell_type": "code",
   "execution_count": 3,
   "metadata": {},
   "outputs": [],
   "source": [
    "import ipywidgets as widgets\n",
    "from IPython.display import display\n",
    "import cv2\n",
    "import os\n",
    "\n",
    "forward_dir = 'automated_data/0_forward'\n",
    "turnLeft_dir = 'automated_data/1_left'\n",
    "turnRight_dir = 'automated_data/2_right'\n",
    "\n",
    "# Create the folder\n",
    "try:\n",
    "    os.makedirs(forward_dir)\n",
    "    os.makedirs(turnLeft_dir)\n",
    "    os.makedirs(turnRight_dir)\n",
    "except FileExistsError:\n",
    "    print('Directories not created because they already exist')\n",
    "\n",
    "# Set and display the button\n",
    "button_layout = widgets.Layout(width='128px', height='64px')\n",
    "forward_button = widgets.Button(description='add forward', button_style='success', layout=button_layout)\n",
    "turnLeft_button = widgets.Button(description='add turn left', button_style='danger', layout=button_layout)\n",
    "turnRight_button = widgets.Button(description='add turn right', button_style='danger', layout=button_layout)\n",
    "\n",
    "# Count the photos\n",
    "forward_count = widgets.IntText(layout=button_layout, value=len(os.listdir(forward_dir)))\n",
    "turnLeft_count = widgets.IntText(layout=button_layout, value=len(os.listdir(turnLeft_dir)))\n",
    "turnRight_count = widgets.IntText(layout=button_layout, value=len(os.listdir(turnRight_dir)))"
   ]
  },
  {
   "cell_type": "markdown",
   "metadata": {},
   "source": [
    "### Initialize the camera"
   ]
  },
  {
   "cell_type": "code",
   "execution_count": null,
   "metadata": {},
   "outputs": [],
   "source": [
    "import traitlets \n",
    "from jetcam.csi_camera import CSICamera\n",
    "from jetcam.utils import bgr8_to_jpeg\n",
    "\n",
    "camera = CSICamera(width=224, height=224, capture_fps=65)\n",
    "camera.running = True\n",
    "\n",
    "image_widget = widgets.Image(format='jpeg', width=224, height=224)\n",
    "\n",
    "camera_link = traitlets.dlink((camera, 'value'), (image_widget, 'value'), transform=bgr8_to_jpeg)"
   ]
  },
  {
   "cell_type": "markdown",
   "metadata": {},
   "source": [
    "### Start collecting data\n",
    "- Move the car to the scene you want to shoot, click the corresponding button, and the image will be automatically saved to the corresponding folder."
   ]
  },
  {
   "cell_type": "code",
   "execution_count": null,
   "metadata": {},
   "outputs": [
    {
     "data": {
      "application/vnd.jupyter.widget-view+json": {
       "model_id": "1641c474ad6249e58dcd5918c3aad4f8",
       "version_major": 2,
       "version_minor": 0
      },
      "text/plain": [
       "Dropdown(description='Direction:', options=(('Forward', <function save_forward at 0x7f85573400>), ('Turn Left'…"
      ]
     },
     "metadata": {},
     "output_type": "display_data"
    },
    {
     "data": {
      "application/vnd.jupyter.widget-view+json": {
       "model_id": "0cd8ed92330d402297f08ce6fe6fef61",
       "version_major": 2,
       "version_minor": 0
      },
      "text/plain": [
       "ToggleButton(value=False, button_style='success', description='Start', tooltip='Start/Stop continuous saving')"
      ]
     },
     "metadata": {},
     "output_type": "display_data"
    },
    {
     "data": {
      "application/vnd.jupyter.widget-view+json": {
       "model_id": "d3949f1dd3634770b54ee6e507564294",
       "version_major": 2,
       "version_minor": 0
      },
      "text/plain": [
       "HBox(children=(IntText(value=0, layout=Layout(height='64px', width='128px')), IntText(value=0, layout=Layout(h…"
      ]
     },
     "metadata": {},
     "output_type": "display_data"
    },
    {
     "data": {
      "application/vnd.jupyter.widget-view+json": {
       "model_id": "d94418cabb424e86869cbdba411145bd",
       "version_major": 2,
       "version_minor": 0
      },
      "text/plain": [
       "Image(value=b'\\xff\\xd8\\xff\\xe0\\x00\\x10JFIF\\x00\\x01\\x01\\x00\\x00\\x01\\x00\\x01\\x00\\x00\\xff\\xdb\\x00C\\x00\\x02\\x01\\x0…"
      ]
     },
     "metadata": {},
     "output_type": "display_data"
    }
   ],
   "source": [
    "import time, threading\n",
    "from uuid import uuid1\n",
    "\n",
    "def save_snapshot(directory):\n",
    "    image_path = os.path.join(directory, str(uuid1()) + '.jpg')\n",
    "    cv2.imwrite(image_path, camera.value.copy())\n",
    "\n",
    "def save_forward():\n",
    "    global forward_dir, forward_count\n",
    "    save_snapshot(forward_dir)\n",
    "    forward_count.value = len(os.listdir(forward_dir))\n",
    "\n",
    "def save_turnLeft():\n",
    "    global turnLeft_dir, turnLeft_count\n",
    "    save_snapshot(turnLeft_dir)\n",
    "    turnLeft_count.value = len(os.listdir(turnLeft_dir))\n",
    "\n",
    "def save_turnRight():\n",
    "    global turnRight_dir, turnRight_count\n",
    "    save_snapshot(turnRight_dir)\n",
    "    turnRight_count.value = len(os.listdir(turnRight_dir))\n",
    "'''\n",
    "forward_button.on_click(lambda x: save_forward())\n",
    "turnLeft_button.on_click(lambda x: save_turnLeft())\n",
    "turnRight_button.on_click(lambda x: save_turnRight())'''\n",
    "\n",
    "# — helper to run a function periodically —\n",
    "\n",
    "def start_periodic(fn, stop_event, interval=0.5):\n",
    "    def loop():\n",
    "        while not stop_event.is_set():\n",
    "            fn()\n",
    "            time.sleep(interval)\n",
    "    t = threading.Thread(target=loop, daemon=True)\n",
    "    t.start()\n",
    "    return t\n",
    "\n",
    "# — UI controls —\n",
    "\n",
    "# dropdown to pick which save_* to call\n",
    "direction_selector = widgets.Dropdown(\n",
    "    options=[\n",
    "        ('Forward', save_forward),\n",
    "        ('Turn Left', save_turnLeft),\n",
    "        ('Turn Right', save_turnRight)\n",
    "    ],\n",
    "    description='Direction:'\n",
    ")\n",
    "\n",
    "# toggle for start/stop\n",
    "go_toggle = widgets.ToggleButton(\n",
    "    value=False,\n",
    "    description='Start',\n",
    "    button_style='success',\n",
    "    tooltip='Start/Stop continuous saving'\n",
    ")\n",
    "\n",
    "# event to signal the background thread to stop\n",
    "stop_event = threading.Event()\n",
    "current_thread = None\n",
    "\n",
    "def on_toggle_change(change):\n",
    "    global current_thread\n",
    "    if change['new']:\n",
    "        # turning ON: clear stop flag, start thread\n",
    "        go_toggle.description = 'Stop'\n",
    "        go_toggle.button_style = 'danger'\n",
    "        stop_event.clear()\n",
    "        fn = direction_selector.value\n",
    "        current_thread = start_periodic(fn, stop_event, interval=0.5)\n",
    "    else:\n",
    "        # turning OFF: signal stop\n",
    "        go_toggle.description = 'Start'\n",
    "        go_toggle.button_style = 'success'\n",
    "        stop_event.set()\n",
    "\n",
    "go_toggle.observe(on_toggle_change, names='value')\n",
    "\n",
    "# display everything\n",
    "display(direction_selector, go_toggle)\n",
    "display(widgets.HBox([forward_count, turnLeft_count, turnRight_count]))\n",
    "display(image_widget)"
   ]
  },
  {
   "cell_type": "markdown",
   "metadata": {},
   "source": [
    "## Display all together"
   ]
  },
  {
   "cell_type": "code",
   "execution_count": 6,
   "metadata": {},
   "outputs": [
    {
     "data": {
      "text/plain": [
       "'display(widgets.HBox([forward_count, forward_button]))\\ndisplay(widgets.HBox([turnLeft_count, turnLeft_button]))\\ndisplay(widgets.HBox([turnRight_count, turnRight_button]))\\ndisplay(image_widget)'"
      ]
     },
     "execution_count": 6,
     "metadata": {},
     "output_type": "execute_result"
    }
   ],
   "source": [
    "\n",
    "'''display(widgets.HBox([forward_count, forward_button]))\n",
    "display(widgets.HBox([turnLeft_count, turnLeft_button]))\n",
    "display(widgets.HBox([turnRight_count, turnRight_button]))\n",
    "display(image_widget)'''"
   ]
  },
  {
   "cell_type": "code",
   "execution_count": null,
   "metadata": {},
   "outputs": [],
   "source": []
  }
 ],
 "metadata": {
  "kernelspec": {
   "display_name": "Python 3",
   "language": "python",
   "name": "python3"
  },
  "language_info": {
   "codemirror_mode": {
    "name": "ipython",
    "version": 3
   },
   "file_extension": ".py",
   "mimetype": "text/x-python",
   "name": "python",
   "nbconvert_exporter": "python",
   "pygments_lexer": "ipython3",
   "version": "3.6.9"
  }
 },
 "nbformat": 4,
 "nbformat_minor": 4
}
