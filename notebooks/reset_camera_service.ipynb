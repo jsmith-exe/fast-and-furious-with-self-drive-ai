{
 "cells": [
  {
   "cell_type": "markdown",
   "id": "451c47de",
   "metadata": {},
   "source": [
    "# Reset camera service"
   ]
  },
  {
   "cell_type": "markdown",
   "id": "8f3531f3",
   "metadata": {},
   "source": [
    "Run the following command to restart the camera service, in case you run into a trouble using the camera.\n"
   ]
  },
  {
   "cell_type": "code",
   "execution_count": 6,
   "id": "c27526c0",
   "metadata": {
    "tags": []
   },
   "outputs": [
    {
     "name": "stdout",
     "output_type": "stream",
     "text": [
      "[sudo] password for jetson: "
     ]
    }
   ],
   "source": [
    "!echo $USER | sudo -S systemctl restart nvargus-daemon "
   ]
  },
  {
   "cell_type": "code",
   "execution_count": null,
   "id": "a9578e92",
   "metadata": {},
   "outputs": [],
   "source": []
  }
 ],
 "metadata": {
  "kernelspec": {
   "display_name": "Python 3",
   "language": "python",
   "name": "python3"
  },
  "language_info": {
   "codemirror_mode": {
    "name": "ipython",
    "version": 3
   },
   "file_extension": ".py",
   "mimetype": "text/x-python",
   "name": "python",
   "nbconvert_exporter": "python",
   "pygments_lexer": "ipython3",
   "version": "3.6.9"
  }
 },
 "nbformat": 4,
 "nbformat_minor": 5
}
