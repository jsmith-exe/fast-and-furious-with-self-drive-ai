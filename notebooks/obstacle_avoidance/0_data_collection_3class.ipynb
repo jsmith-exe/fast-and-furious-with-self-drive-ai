{
 "cells": [
  {
   "cell_type": "code",
   "execution_count": 1,
   "metadata": {},
   "outputs": [
    {
     "name": "stdout",
     "output_type": "stream",
     "text": [
      "[sudo] password for jetson: "
     ]
    }
   ],
   "source": [
    "!echo $USER | sudo -S systemctl restart nvargus-daemon "
   ]
  },
  {
   "cell_type": "code",
   "execution_count": 2,
   "metadata": {},
   "outputs": [
    {
     "name": "stdout",
     "output_type": "stream",
     "text": [
      "/home/jetson/csc-3002-efficient-autonomous-obstacles-avoidance-on-jetracer-1-2025/notebooks/train_collision_avoidance\n"
     ]
    }
   ],
   "source": [
    "%cd csc-3002-efficient-autonomous-obstacles-avoidance-on-jetracer-1-2025/notebooks/train_collision_avoidance"
   ]
  },
  {
   "cell_type": "markdown",
   "metadata": {},
   "source": [
    "# Data Collection\n",
    "- This file is used to collect data for training the model.\n",
    "- The data labels are divided into three categories —— `forward`, `turn left` and `turn right`.\n",
    "- We will store the data in three different folders"
   ]
  },
  {
   "cell_type": "code",
   "execution_count": 3,
   "metadata": {},
   "outputs": [
    {
     "name": "stdout",
     "output_type": "stream",
     "text": [
      "Directories not created because they already exist\n"
     ]
    }
   ],
   "source": [
    "import ipywidgets as widgets\n",
    "from IPython.display import display\n",
    "import cv2\n",
    "import os\n",
    "\n",
    "forward_dir = 'js_data/0_forward'\n",
    "turnLeft_dir = 'js_data/1_left'\n",
    "turnRight_dir = 'js_data/2_right'\n",
    "\n",
    "# Create the folder\n",
    "try:\n",
    "    os.makedirs(forward_dir)\n",
    "    os.makedirs(turnLeft_dir)\n",
    "    os.makedirs(turnRight_dir)\n",
    "except FileExistsError:\n",
    "    print('Directories not created because they already exist')\n",
    "\n",
    "# Set and display the button\n",
    "button_layout = widgets.Layout(width='128px', height='64px')\n",
    "forward_button = widgets.Button(description='add forward', button_style='success', layout=button_layout)\n",
    "turnLeft_button = widgets.Button(description='add turn left', button_style='danger', layout=button_layout)\n",
    "turnRight_button = widgets.Button(description='add turn right', button_style='danger', layout=button_layout)\n",
    "\n",
    "# Count the photos\n",
    "forward_count = widgets.IntText(layout=button_layout, value=len(os.listdir(forward_dir)))\n",
    "turnLeft_count = widgets.IntText(layout=button_layout, value=len(os.listdir(turnLeft_dir)))\n",
    "turnRight_count = widgets.IntText(layout=button_layout, value=len(os.listdir(turnRight_dir)))"
   ]
  },
  {
   "cell_type": "markdown",
   "metadata": {},
   "source": [
    "### Initialize the camera"
   ]
  },
  {
   "cell_type": "code",
   "execution_count": 4,
   "metadata": {},
   "outputs": [],
   "source": [
    "import traitlets \n",
    "import ipywidgets.widgets as widgets\n",
    "from IPython.display import display\n",
    "from jetcam.csi_camera import CSICamera\n",
    "from jetcam.utils import bgr8_to_jpeg\n",
    "\n",
    "camera = CSICamera(width=224, height=224, capture_fps=65)\n",
    "camera.running = True\n",
    "\n",
    "image_widget = widgets.Image(format='jpeg', width=224, height=224)\n",
    "\n",
    "camera_link = traitlets.dlink((camera, 'value'), (image_widget, 'value'), transform=bgr8_to_jpeg)"
   ]
  },
  {
   "cell_type": "markdown",
   "metadata": {},
   "source": [
    "### Start collecting data\n",
    "- Move the car to the scene you want to shoot, click the corresponding button, and the image will be automatically saved to the corresponding folder."
   ]
  },
  {
   "cell_type": "code",
   "execution_count": 5,
   "metadata": {},
   "outputs": [],
   "source": [
    "from uuid import uuid1\n",
    "\n",
    "def save_snapshot(directory):\n",
    "    image_path = os.path.join(directory, str(uuid1()) + '.jpg')\n",
    "    cv2.imwrite(image_path, camera.value.copy())\n",
    "\n",
    "def save_forward():\n",
    "    global forward_dir, forward_count\n",
    "    save_snapshot(forward_dir)\n",
    "    forward_count.value = len(os.listdir(forward_dir))\n",
    "\n",
    "def save_turnLeft():\n",
    "    global turnLeft_dir, turnLeft_count\n",
    "    save_snapshot(turnLeft_dir)\n",
    "    turnLeft_count.value = len(os.listdir(turnLeft_dir))\n",
    "\n",
    "def save_turnRight():\n",
    "    global turnRight_dir, turnRight_count\n",
    "    save_snapshot(turnRight_dir)\n",
    "    turnRight_count.value = len(os.listdir(turnRight_dir))\n",
    "    \n",
    "forward_button.on_click(lambda x: save_forward())\n",
    "turnLeft_button.on_click(lambda x: save_turnLeft())\n",
    "turnRight_button.on_click(lambda x: save_turnRight())"
   ]
  },
  {
   "cell_type": "markdown",
   "metadata": {},
   "source": [
    "## Display all together"
   ]
  },
  {
   "cell_type": "code",
   "execution_count": 6,
   "metadata": {},
   "outputs": [
    {
     "data": {
      "application/vnd.jupyter.widget-view+json": {
       "model_id": "b9c48915faf846719d6a0d4d1913ef0e",
       "version_major": 2,
       "version_minor": 0
      },
      "text/plain": [
       "HBox(children=(IntText(value=0, layout=Layout(height='64px', width='128px')), Button(button_style='success', d…"
      ]
     },
     "metadata": {},
     "output_type": "display_data"
    },
    {
     "data": {
      "application/vnd.jupyter.widget-view+json": {
       "model_id": "d22354e936a1413fb5098af66ac2e8ef",
       "version_major": 2,
       "version_minor": 0
      },
      "text/plain": [
       "HBox(children=(IntText(value=15, layout=Layout(height='64px', width='128px')), Button(button_style='danger', d…"
      ]
     },
     "metadata": {},
     "output_type": "display_data"
    },
    {
     "data": {
      "application/vnd.jupyter.widget-view+json": {
       "model_id": "a8e4a829362448b2932d306dc42c8fa1",
       "version_major": 2,
       "version_minor": 0
      },
      "text/plain": [
       "HBox(children=(IntText(value=7, layout=Layout(height='64px', width='128px')), Button(button_style='danger', de…"
      ]
     },
     "metadata": {},
     "output_type": "display_data"
    },
    {
     "data": {
      "application/vnd.jupyter.widget-view+json": {
       "model_id": "55bd9db834b64fa7919894fcb4566281",
       "version_major": 2,
       "version_minor": 0
      },
      "text/plain": [
       "Image(value=b'\\xff\\xd8\\xff\\xe0\\x00\\x10JFIF\\x00\\x01\\x01\\x00\\x00\\x01\\x00\\x01\\x00\\x00\\xff\\xdb\\x00C\\x00\\x02\\x01\\x0…"
      ]
     },
     "metadata": {},
     "output_type": "display_data"
    }
   ],
   "source": [
    "display(widgets.HBox([forward_count, forward_button]))\n",
    "display(widgets.HBox([turnLeft_count, turnLeft_button]))\n",
    "display(widgets.HBox([turnRight_count, turnRight_button]))\n",
    "display(image_widget)"
   ]
  },
  {
   "cell_type": "code",
   "execution_count": null,
   "metadata": {},
   "outputs": [],
   "source": []
  }
 ],
 "metadata": {
  "kernelspec": {
   "display_name": "Python 3",
   "language": "python",
   "name": "python3"
  }
 },
 "nbformat": 4,
 "nbformat_minor": 4
}
